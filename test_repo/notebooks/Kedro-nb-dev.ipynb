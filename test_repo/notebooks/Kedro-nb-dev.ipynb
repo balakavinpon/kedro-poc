{
 "cells": [
  {
   "cell_type": "code",
   "execution_count": null,
   "id": "1d285a45-e80b-4e59-9ea5-c5274b20a6c4",
   "metadata": {},
   "outputs": [],
   "source": [
    "proj_path='/kedro-poc/test_repo/'"
   ]
  },
  {
   "cell_type": "code",
   "execution_count": null,
   "id": "e51657ae-d8e9-4f2c-99a6-24ac66b31bcc",
   "metadata": {},
   "outputs": [],
   "source": [
    "import subprocess\n",
    "import yaml\n",
    "\n",
    "with open(proj_path+\"/conf/base/catalog.yml\", 'r') as stream:\n",
    "    catalog = yaml.safe_load(stream)\n",
    "catalog"
   ]
  },
  {
   "cell_type": "markdown",
   "id": "25b6f8db-9e5a-4044-ab6b-95f66c478b72",
   "metadata": {},
   "source": [
    "## Params"
   ]
  },
  {
   "cell_type": "code",
   "execution_count": null,
   "id": "c656ceb8-97a4-42f6-b728-7b0ff7017c8e",
   "metadata": {},
   "outputs": [],
   "source": [
    "with open(proj_path+\"/conf/base/parameter.yml\", 'r') as stream:\n",
    "    parameters = yaml.safe_load(stream)"
   ]
  },
  {
   "cell_type": "code",
   "execution_count": null,
   "id": "0637a4cd-88e4-43c3-ae68-dcbae104b421",
   "metadata": {},
   "outputs": [],
   "source": [
    "parameters"
   ]
  },
  {
   "cell_type": "code",
   "execution_count": null,
   "id": "2be42cd1-0ddd-4844-8ccd-ce92bc98f48a",
   "metadata": {},
   "outputs": [],
   "source": [
    "import pandas\n",
    "from sklearn.ensemble import RandomForestClassifier\n",
    "from sklearn.metrics import accuracy_score\n",
    "from sklearn.model_selection import train_test_split\n",
    "from pyspark import SparkContext\n",
    "from pyspark.sql import SparkSession, HiveContext\n",
    "\n",
    "import pandas as pd\n",
    "from sklearn.model_selection import train_test_split\n",
    "from sklearn.ensemble import RandomForestClassifier\n",
    "\n",
    "def data_acquisition(params, data):\n",
    "    #data = pd.read_csv(r\"data/01_raw/diabetes.csv\")\n",
    "    raw_data = data\n",
    "    print(data.loc[[1]])\n",
    "    return raw_data \n",
    "\n",
    "def feature_engineering(params, raw_data):\n",
    "    df = raw_data\n",
    "    df1 = df.dropna()\n",
    "    cleaned_data = df1\n",
    "    return cleaned_data\n",
    "\n",
    "def train_test_split_fun(params, cleaned_data):\n",
    "    value = params['ratio']\n",
    "    training_data = cleaned_data.drop('Outcome',axis=1)\n",
    "    testing_data = cleaned_data['Outcome']\n",
    "    X_train, X_test, y_train, y_test = train_test_split(training_data, testing_data, test_size = value, random_state=42)\n",
    "    return X_train, X_test, y_train, y_test\n",
    "\n",
    "def model_training(params, X_train, y_train):\n",
    "    rc = RandomForestClassifier(max_depth=2, random_state=0)\n",
    "    model = rc.fit(X_train, y_train)\n",
    "    return model\n",
    "\n",
    "\n",
    "from sklearn.metrics import accuracy_score\n",
    "\n",
    "def validation(params, rc, X_test, y_test):\n",
    "    y_pred = rc.predict(X_test)\n",
    "    metrics = accuracy_score(y_test,y_pred)\n",
    "    print(\"Metrics = \",metrics)\n",
    "    return metrics"
   ]
  },
  {
   "cell_type": "code",
   "execution_count": null,
   "id": "e865a734-fb51-44b2-bae7-12c71530b7f5",
   "metadata": {},
   "outputs": [],
   "source": [
    "from kedro.pipeline import node, Pipeline\n",
    "from kedro.runner import SequentialRunner\n",
    "training_pipeline = Pipeline([node(data_acquisition,\n",
    "                                  inputs=['parameters','diabetes'],\n",
    "                                  outputs='dataset',\n",
    "                                  name=\"data_acquisition\"),\n",
    "                     node(feature_engineering,\n",
    "                                 inputs=['parameters','dataset'],\n",
    "                                 outputs='cleaned_dataset',\n",
    "                                 name=\"feature_engineering\"),\n",
    "                    node(train_test_split_fun,\n",
    "                                 inputs=['parameters','cleaned_dataset'],\n",
    "                                 outputs=['x_train','x_test','y_train','y_test'],\n",
    "                                 name=\"train_test_split_fun\"),\n",
    "                     node(model_training,\n",
    "                                 inputs=['parameters','x_train', 'y_train'],\n",
    "                                 outputs='model',\n",
    "                                 name=\"model_training\"),\n",
    "                                    ])"
   ]
  },
  {
   "cell_type": "code",
   "execution_count": null,
   "id": "0d080607-40fc-4462-ae70-cecc5af794a6",
   "metadata": {},
   "outputs": [],
   "source": [
    "from kedro.runner import SequentialRunner\n",
    "from kedro.io import DataCatalog, MemoryDataSet\n",
    "\n",
    "data_catalog = DataCatalog.from_config(catalog)\n",
    "data_catalog.add_feed_dict({'parameters' : parameters})                  \n",
    "SequentialRunner().run(pipeline=training_pipeline, catalog=data_catalog)  "
   ]
  }
 ],
 "metadata": {
  "kernelspec": {
   "display_name": "Python 3",
   "language": "python",
   "name": "python3"
  },
  "language_info": {
   "codemirror_mode": {
    "name": "ipython",
    "version": 3
   },
   "file_extension": ".py",
   "mimetype": "text/x-python",
   "name": "python",
   "nbconvert_exporter": "python",
   "pygments_lexer": "ipython3",
   "version": "3.8.12"
  }
 },
 "nbformat": 4,
 "nbformat_minor": 5
}
