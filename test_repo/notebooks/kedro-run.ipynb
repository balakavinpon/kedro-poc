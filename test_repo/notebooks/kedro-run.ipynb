{
 "cells": [
  {
   "cell_type": "code",
   "execution_count": 1,
   "id": "6a9d0c8d-abb0-48ac-957b-912bbfd2d743",
   "metadata": {},
   "outputs": [
    {
     "name": "stdout",
     "output_type": "stream",
     "text": [
      "/\n"
     ]
    }
   ],
   "source": [
    "!pwd\n"
   ]
  },
  {
   "cell_type": "code",
   "execution_count": null,
   "id": "890c0432-785d-4713-813e-e7926eae453c",
   "metadata": {},
   "outputs": [],
   "source": [
    "!git clone https://github.com/balakavinpon/kedro-poc.git --branch  kfp"
   ]
  },
  {
   "cell_type": "code",
   "execution_count": null,
   "id": "2c080152-b0cd-4d2d-ab4c-bf9c2b21d833",
   "metadata": {},
   "outputs": [],
   "source": [
    "!pip install -r kedro-poc/test_repo/src/requirements.txt"
   ]
  },
  {
   "cell_type": "code",
   "execution_count": 4,
   "id": "fb5dfb9f-6a03-458b-9932-00cddfc1293e",
   "metadata": {},
   "outputs": [
    {
     "name": "stdout",
     "output_type": "stream",
     "text": [
      "2022-01-07 08:44:03,177 - root - INFO - Registered hooks from 2 installed plugin(s): kedro-kubeflow-0.4.7\n",
      "2022-01-07 08:44:03,306 - root - INFO - Registered CLI hooks from 1 installed plugin(s): kedro-telemetry-0.1.3\n",
      "2022-01-07 08:44:04,050 - root - INFO - Registered CLI hooks from 1 installed plugin(s): kedro-telemetry-0.1.3\n",
      "Kedro-Telemetry is installed, but you have opted out of sharing usage analytics so none will be collected.\n",
      "2022-01-07 08:44:04,174 - kedro.framework.session.store - INFO - `read()` not implemented for `BaseSessionStore`. Assuming empty store.\n",
      "2022-01-07 08:44:04,204 - root - INFO - ** Kedro project test_repo\n",
      "2022-01-07 08:44:07,102 - kedro.io.data_catalog - INFO - Loading data from `parameters` (MemoryDataSet)...\n",
      "2022-01-07 08:44:07,102 - kedro.io.data_catalog - INFO - Loading data from `diabetes` (CSVDataSet)...\n",
      "2022-01-07 08:44:07,356 - kedro.pipeline.node - INFO - Running node: data_acquisition: data_acquisition([diabetes,parameters]) -> [dataset]\n",
      "   Pregnancies  Glucose  BloodPressure  ...  DiabetesPedigreeFunction  Age  Outcome\n",
      "1            0       84             82  ...                     0.233   23        0\n",
      "\n",
      "[1 rows x 9 columns]\n",
      "2022-01-07 08:44:07,392 - kedro.io.data_catalog - INFO - Saving data to `dataset` (CSVDataSet)...\n",
      "2022-01-07 08:44:07,645 - kedro.runner.sequential_runner - INFO - Completed 1 out of 4 tasks\n",
      "2022-01-07 08:44:07,646 - kedro.io.data_catalog - INFO - Loading data from `parameters` (MemoryDataSet)...\n",
      "2022-01-07 08:44:07,646 - kedro.io.data_catalog - INFO - Loading data from `dataset` (CSVDataSet)...\n",
      "2022-01-07 08:44:07,720 - kedro.pipeline.node - INFO - Running node: feature_engineering: feature_engineering([dataset,parameters]) -> [cleaned_dataset]\n",
      "2022-01-07 08:44:07,733 - numexpr.utils - INFO - NumExpr defaulting to 2 threads.\n",
      "2022-01-07 08:44:07,740 - kedro.io.data_catalog - INFO - Saving data to `cleaned_dataset` (CSVDataSet)...\n",
      "2022-01-07 08:44:08,023 - kedro.runner.sequential_runner - INFO - Completed 2 out of 4 tasks\n",
      "2022-01-07 08:44:08,023 - kedro.io.data_catalog - INFO - Loading data from `parameters` (MemoryDataSet)...\n",
      "2022-01-07 08:44:08,023 - kedro.io.data_catalog - INFO - Loading data from `cleaned_dataset` (CSVDataSet)...\n",
      "2022-01-07 08:44:08,101 - kedro.pipeline.node - INFO - Running node: train_test_split_fun: train_test_split_fun([cleaned_dataset,parameters]) -> [x_test,x_train,y_test,y_train]\n",
      "2022-01-07 08:44:08,105 - kedro.io.data_catalog - INFO - Saving data to `x_train` (CSVDataSet)...\n",
      "2022-01-07 08:44:08,404 - kedro.io.data_catalog - INFO - Saving data to `x_test` (CSVDataSet)...\n",
      "2022-01-07 08:44:08,667 - kedro.io.data_catalog - INFO - Saving data to `y_train` (CSVDataSet)...\n",
      "2022-01-07 08:44:09,079 - kedro.io.data_catalog - INFO - Saving data to `y_test` (CSVDataSet)...\n",
      "2022-01-07 08:44:09,473 - kedro.runner.sequential_runner - INFO - Completed 3 out of 4 tasks\n",
      "2022-01-07 08:44:09,473 - kedro.io.data_catalog - INFO - Loading data from `parameters` (MemoryDataSet)...\n",
      "2022-01-07 08:44:09,474 - kedro.io.data_catalog - INFO - Loading data from `x_train` (CSVDataSet)...\n",
      "2022-01-07 08:44:09,602 - kedro.io.data_catalog - INFO - Loading data from `y_train` (CSVDataSet)...\n",
      "2022-01-07 08:44:09,666 - kedro.pipeline.node - INFO - Running node: model_training: model_training([parameters,x_train,y_train]) -> [model]\n",
      "2022-01-07 08:44:09,824 - kedro.io.data_catalog - INFO - Saving data to `model` (PickleDataSet)...\n",
      "2022-01-07 08:44:10,083 - kedro.runner.sequential_runner - INFO - Completed 4 out of 4 tasks\n",
      "2022-01-07 08:44:10,083 - kedro.runner.sequential_runner - INFO - Pipeline execution completed successfully.\n",
      "2022-01-07 08:44:10,083 - kedro.framework.session.store - INFO - `save()` not implemented for `BaseSessionStore`. Skipping the step.\n"
     ]
    },
    {
     "name": "stderr",
     "output_type": "stream",
     "text": [
      "/kedro-poc/test_repo/src/pkg/pipelines/model_training/nodes.py:57: DataConversionWarning: A column-vector y was passed when a 1d array was expected. Please change the shape of y to (n_samples,), for example using ravel().\n",
      "  model = rc.fit(X_train, y_train)\n"
     ]
    }
   ],
   "source": [
    "%%bash \n",
    "cd /kedro-poc/test_repo/\n",
    "\n",
    "kedro run --pipeline model_train"
   ]
  },
  {
   "cell_type": "code",
   "execution_count": null,
   "id": "f1c87399-f3f3-4c08-8a7f-840951480f41",
   "metadata": {},
   "outputs": [],
   "source": []
  }
 ],
 "metadata": {
  "kernelspec": {
   "display_name": "Python 3",
   "language": "python",
   "name": "python3"
  },
  "language_info": {
   "codemirror_mode": {
    "name": "ipython",
    "version": 3
   },
   "file_extension": ".py",
   "mimetype": "text/x-python",
   "name": "python",
   "nbconvert_exporter": "python",
   "pygments_lexer": "ipython3",
   "version": "3.8.12"
  }
 },
 "nbformat": 4,
 "nbformat_minor": 5
}
